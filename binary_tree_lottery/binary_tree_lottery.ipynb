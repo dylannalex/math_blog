{
 "cells": [
  {
   "attachments": {},
   "cell_type": "markdown",
   "metadata": {},
   "source": [
    "# The Binary Tree Lottery Problem\n",
    "\n",
    "The Binary Tree Lottery is a game where $k$ different nodes are randomly selected from a perfect binary tree of height $h$. You win the lottery if the $k$ selected nodes belongs to the same level of the tree. See **Image 1**.\n",
    "\n",
    "<figure class=\"image\" align=\"center\">\n",
    "  <img src=\"img/animation1.gif\" />\n",
    "  <figcaption><b>Animation 1:</b> binary tree lottery for <i>h = 3<i> and <i>k = 2<i>. Winner nodes are displayed<br> green, and loser nodes are displayed red.</figcaption>\n",
    "</figure>\n",
    "\n",
    "The problem consists in finding the probability of winning the binary tree lottery as a function of $h$ and $k$.\n",
    "\n",
    "# Statement\n",
    "\n",
    "Consider a perfect binary tree $T$ of height $h$ with levels $T_0, T_1, \\dots, T_h$ and a random subset $S_{k} = \\{n_1, n_2, \\dots, n_k | n_i \\neq n_j \\forall i \\neq j \\}$ of $k$ nodes from $T$. Find $P(A)$, the probability that $n_j \\in T_i \\forall j$, as a function of $h$ and $k$\n",
    "\n",
    "$$\n",
    "\\begin{split}\n",
    "&f : \\mathbb{N} \\times \\mathbb{N} \\to \\mathbb{R}\\\\\n",
    "&f(h, k) = P(A)\n",
    "\\end{split}\n",
    "$$\n",
    "\n",
    "given that the selection of $S_k$ follows a uniform distribution, i.e., $P(S_k) = \\frac{1}{N_s}$, where $N_s$ is the number of possible different subsets $S_k$."
   ]
  }
 ],
 "metadata": {
  "kernelspec": {
   "display_name": "venv",
   "language": "python",
   "name": "python3"
  },
  "language_info": {
   "codemirror_mode": {
    "name": "ipython",
    "version": 3
   },
   "file_extension": ".py",
   "mimetype": "text/x-python",
   "name": "python",
   "nbconvert_exporter": "python",
   "pygments_lexer": "ipython3",
   "version": "3.11.2"
  },
  "orig_nbformat": 4
 },
 "nbformat": 4,
 "nbformat_minor": 2
}
